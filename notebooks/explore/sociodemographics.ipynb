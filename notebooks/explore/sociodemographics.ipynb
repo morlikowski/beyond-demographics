{
 "cells": [
  {
   "cell_type": "code",
   "execution_count": 14,
   "metadata": {},
   "outputs": [],
   "source": [
    "import pandas as pd"
   ]
  },
  {
   "cell_type": "code",
   "execution_count": 15,
   "metadata": {},
   "outputs": [],
   "source": [
    "df = pd.read_csv('../../shared_data/processed/merged_data.csv', low_memory=False)"
   ]
  },
  {
   "cell_type": "code",
   "execution_count": 16,
   "metadata": {},
   "outputs": [],
   "source": [
    "TASKS_WITH_TEXT = [\n",
    "    'intimacy', \n",
    "    'politeness', \n",
    "    'offensiveness',\n",
    "    'diaz',\n",
    "    'dices-350'\n",
    "]\n",
    "\n",
    "df_text = df[(df['bad_users'] == False) & (df['task'].isin(TASKS_WITH_TEXT))].copy()"
   ]
  },
  {
   "cell_type": "code",
   "execution_count": 17,
   "metadata": {},
   "outputs": [],
   "source": [
    "SOCDEM = ['gender', 'age', 'race', 'education']"
   ]
  },
  {
   "cell_type": "code",
   "execution_count": 18,
   "metadata": {},
   "outputs": [],
   "source": [
    "df_text['socdem'] = df_text.apply(lambda row: '|'.join([row[attr] for attr in SOCDEM]), axis=1)"
   ]
  },
  {
   "cell_type": "code",
   "execution_count": 19,
   "metadata": {},
   "outputs": [
    {
     "data": {
      "text/plain": [
       "Index(['instance_id', 'text', 'user_id', 'gender', 'age', 'race', 'education',\n",
       "       'label', 'labels', 'task', 'instance_split', 'user_split', 'bad_users',\n",
       "       'socdem'],\n",
       "      dtype='object')"
      ]
     },
     "execution_count": 19,
     "metadata": {},
     "output_type": "execute_result"
    }
   ],
   "source": [
    "df_text.columns"
   ]
  },
  {
   "cell_type": "markdown",
   "metadata": {},
   "source": [
    "Number of unique users for each sociodemographic profile"
   ]
  },
  {
   "cell_type": "code",
   "execution_count": 20,
   "metadata": {},
   "outputs": [
    {
     "data": {
      "text/html": [
       "<div>\n",
       "<style scoped>\n",
       "    .dataframe tbody tr th:only-of-type {\n",
       "        vertical-align: middle;\n",
       "    }\n",
       "\n",
       "    .dataframe tbody tr th {\n",
       "        vertical-align: top;\n",
       "    }\n",
       "\n",
       "    .dataframe thead th {\n",
       "        text-align: right;\n",
       "    }\n",
       "</style>\n",
       "<table border=\"1\" class=\"dataframe\">\n",
       "  <thead>\n",
       "    <tr style=\"text-align: right;\">\n",
       "      <th></th>\n",
       "      <th>task</th>\n",
       "      <th>socdem</th>\n",
       "      <th>user_id</th>\n",
       "    </tr>\n",
       "  </thead>\n",
       "  <tbody>\n",
       "    <tr>\n",
       "      <th>81</th>\n",
       "      <td>diaz</td>\n",
       "      <td>Woman|50-59|White|Some college or associate's ...</td>\n",
       "      <td>86</td>\n",
       "    </tr>\n",
       "    <tr>\n",
       "      <th>35</th>\n",
       "      <td>diaz</td>\n",
       "      <td>Man|60-69|White|Some college or associate's de...</td>\n",
       "      <td>84</td>\n",
       "    </tr>\n",
       "    <tr>\n",
       "      <th>100</th>\n",
       "      <td>diaz</td>\n",
       "      <td>Woman|60-69|White|Some college or associate's ...</td>\n",
       "      <td>83</td>\n",
       "    </tr>\n",
       "    <tr>\n",
       "      <th>31</th>\n",
       "      <td>diaz</td>\n",
       "      <td>Man|60-69|White|College degree</td>\n",
       "      <td>77</td>\n",
       "    </tr>\n",
       "    <tr>\n",
       "      <th>17</th>\n",
       "      <td>diaz</td>\n",
       "      <td>Man|50-59|White|Some college or associate's de...</td>\n",
       "      <td>62</td>\n",
       "    </tr>\n",
       "    <tr>\n",
       "      <th>...</th>\n",
       "      <td>...</td>\n",
       "      <td>...</td>\n",
       "      <td>...</td>\n",
       "    </tr>\n",
       "    <tr>\n",
       "      <th>41</th>\n",
       "      <td>diaz</td>\n",
       "      <td>Man|70-79|Native American|Some college or asso...</td>\n",
       "      <td>1</td>\n",
       "    </tr>\n",
       "    <tr>\n",
       "      <th>42</th>\n",
       "      <td>diaz</td>\n",
       "      <td>Man|70-79|Other|Graduate degree</td>\n",
       "      <td>1</td>\n",
       "    </tr>\n",
       "    <tr>\n",
       "      <th>493</th>\n",
       "      <td>politeness</td>\n",
       "      <td>Woman|40-44|Black|Unknown</td>\n",
       "      <td>1</td>\n",
       "    </tr>\n",
       "    <tr>\n",
       "      <th>494</th>\n",
       "      <td>politeness</td>\n",
       "      <td>Woman|40-44|Hispanic/Latino|College degree</td>\n",
       "      <td>1</td>\n",
       "    </tr>\n",
       "    <tr>\n",
       "      <th>498</th>\n",
       "      <td>politeness</td>\n",
       "      <td>Woman|40-44|White|Unknown</td>\n",
       "      <td>1</td>\n",
       "    </tr>\n",
       "  </tbody>\n",
       "</table>\n",
       "<p>530 rows × 3 columns</p>\n",
       "</div>"
      ],
      "text/plain": [
       "           task                                             socdem  user_id\n",
       "81         diaz  Woman|50-59|White|Some college or associate's ...       86\n",
       "35         diaz  Man|60-69|White|Some college or associate's de...       84\n",
       "100        diaz  Woman|60-69|White|Some college or associate's ...       83\n",
       "31         diaz                     Man|60-69|White|College degree       77\n",
       "17         diaz  Man|50-59|White|Some college or associate's de...       62\n",
       "..          ...                                                ...      ...\n",
       "41         diaz  Man|70-79|Native American|Some college or asso...        1\n",
       "42         diaz                    Man|70-79|Other|Graduate degree        1\n",
       "493  politeness                          Woman|40-44|Black|Unknown        1\n",
       "494  politeness         Woman|40-44|Hispanic/Latino|College degree        1\n",
       "498  politeness                          Woman|40-44|White|Unknown        1\n",
       "\n",
       "[530 rows x 3 columns]"
      ]
     },
     "execution_count": 20,
     "metadata": {},
     "output_type": "execute_result"
    }
   ],
   "source": [
    "socdem_counts = df_text.groupby(['task', 'socdem'])[['user_id']].nunique().reset_index()\n",
    "socdem_counts.sort_values('user_id', ascending=False)"
   ]
  },
  {
   "cell_type": "markdown",
   "metadata": {},
   "source": [
    "Number of users for each sociodemographic profile per task"
   ]
  },
  {
   "cell_type": "code",
   "execution_count": 21,
   "metadata": {},
   "outputs": [
    {
     "data": {
      "text/html": [
       "<div>\n",
       "<style scoped>\n",
       "    .dataframe tbody tr th:only-of-type {\n",
       "        vertical-align: middle;\n",
       "    }\n",
       "\n",
       "    .dataframe tbody tr th {\n",
       "        vertical-align: top;\n",
       "    }\n",
       "\n",
       "    .dataframe thead tr th {\n",
       "        text-align: left;\n",
       "    }\n",
       "\n",
       "    .dataframe thead tr:last-of-type th {\n",
       "        text-align: right;\n",
       "    }\n",
       "</style>\n",
       "<table border=\"1\" class=\"dataframe\">\n",
       "  <thead>\n",
       "    <tr>\n",
       "      <th></th>\n",
       "      <th colspan=\"8\" halign=\"left\">user_id</th>\n",
       "    </tr>\n",
       "    <tr>\n",
       "      <th></th>\n",
       "      <th>count</th>\n",
       "      <th>mean</th>\n",
       "      <th>std</th>\n",
       "      <th>min</th>\n",
       "      <th>25%</th>\n",
       "      <th>50%</th>\n",
       "      <th>75%</th>\n",
       "      <th>max</th>\n",
       "    </tr>\n",
       "    <tr>\n",
       "      <th>task</th>\n",
       "      <th></th>\n",
       "      <th></th>\n",
       "      <th></th>\n",
       "      <th></th>\n",
       "      <th></th>\n",
       "      <th></th>\n",
       "      <th></th>\n",
       "      <th></th>\n",
       "    </tr>\n",
       "  </thead>\n",
       "  <tbody>\n",
       "    <tr>\n",
       "      <th>diaz</th>\n",
       "      <td>122.0</td>\n",
       "      <td>12.139344</td>\n",
       "      <td>19.346478</td>\n",
       "      <td>1.0</td>\n",
       "      <td>1.0</td>\n",
       "      <td>3.5</td>\n",
       "      <td>11.0</td>\n",
       "      <td>86.0</td>\n",
       "    </tr>\n",
       "    <tr>\n",
       "      <th>dices-350</th>\n",
       "      <td>45.0</td>\n",
       "      <td>2.311111</td>\n",
       "      <td>1.458864</td>\n",
       "      <td>1.0</td>\n",
       "      <td>1.0</td>\n",
       "      <td>2.0</td>\n",
       "      <td>3.0</td>\n",
       "      <td>6.0</td>\n",
       "    </tr>\n",
       "    <tr>\n",
       "      <th>intimacy</th>\n",
       "      <td>105.0</td>\n",
       "      <td>2.485714</td>\n",
       "      <td>2.453860</td>\n",
       "      <td>1.0</td>\n",
       "      <td>1.0</td>\n",
       "      <td>1.0</td>\n",
       "      <td>3.0</td>\n",
       "      <td>16.0</td>\n",
       "    </tr>\n",
       "    <tr>\n",
       "      <th>offensiveness</th>\n",
       "      <td>104.0</td>\n",
       "      <td>2.519231</td>\n",
       "      <td>2.421509</td>\n",
       "      <td>1.0</td>\n",
       "      <td>1.0</td>\n",
       "      <td>1.0</td>\n",
       "      <td>4.0</td>\n",
       "      <td>17.0</td>\n",
       "    </tr>\n",
       "    <tr>\n",
       "      <th>politeness</th>\n",
       "      <td>154.0</td>\n",
       "      <td>3.285714</td>\n",
       "      <td>4.121860</td>\n",
       "      <td>1.0</td>\n",
       "      <td>1.0</td>\n",
       "      <td>2.0</td>\n",
       "      <td>4.0</td>\n",
       "      <td>24.0</td>\n",
       "    </tr>\n",
       "  </tbody>\n",
       "</table>\n",
       "</div>"
      ],
      "text/plain": [
       "              user_id                                                 \n",
       "                count       mean        std  min  25%  50%   75%   max\n",
       "task                                                                  \n",
       "diaz            122.0  12.139344  19.346478  1.0  1.0  3.5  11.0  86.0\n",
       "dices-350        45.0   2.311111   1.458864  1.0  1.0  2.0   3.0   6.0\n",
       "intimacy        105.0   2.485714   2.453860  1.0  1.0  1.0   3.0  16.0\n",
       "offensiveness   104.0   2.519231   2.421509  1.0  1.0  1.0   4.0  17.0\n",
       "politeness      154.0   3.285714   4.121860  1.0  1.0  2.0   4.0  24.0"
      ]
     },
     "execution_count": 21,
     "metadata": {},
     "output_type": "execute_result"
    }
   ],
   "source": [
    "socdem_counts.groupby('task').describe()"
   ]
  },
  {
   "cell_type": "markdown",
   "metadata": {},
   "source": [
    "Number of annotators that have a unique profile"
   ]
  },
  {
   "cell_type": "code",
   "execution_count": 22,
   "metadata": {},
   "outputs": [
    {
     "data": {
      "text/html": [
       "<div>\n",
       "<style scoped>\n",
       "    .dataframe tbody tr th:only-of-type {\n",
       "        vertical-align: middle;\n",
       "    }\n",
       "\n",
       "    .dataframe tbody tr th {\n",
       "        vertical-align: top;\n",
       "    }\n",
       "\n",
       "    .dataframe thead th {\n",
       "        text-align: right;\n",
       "    }\n",
       "</style>\n",
       "<table border=\"1\" class=\"dataframe\">\n",
       "  <thead>\n",
       "    <tr style=\"text-align: right;\">\n",
       "      <th></th>\n",
       "      <th>user_id</th>\n",
       "    </tr>\n",
       "    <tr>\n",
       "      <th>task</th>\n",
       "      <th></th>\n",
       "    </tr>\n",
       "  </thead>\n",
       "  <tbody>\n",
       "    <tr>\n",
       "      <th>diaz</th>\n",
       "      <td>37</td>\n",
       "    </tr>\n",
       "    <tr>\n",
       "      <th>dices-350</th>\n",
       "      <td>18</td>\n",
       "    </tr>\n",
       "    <tr>\n",
       "      <th>intimacy</th>\n",
       "      <td>55</td>\n",
       "    </tr>\n",
       "    <tr>\n",
       "      <th>offensiveness</th>\n",
       "      <td>54</td>\n",
       "    </tr>\n",
       "    <tr>\n",
       "      <th>politeness</th>\n",
       "      <td>74</td>\n",
       "    </tr>\n",
       "  </tbody>\n",
       "</table>\n",
       "</div>"
      ],
      "text/plain": [
       "               user_id\n",
       "task                  \n",
       "diaz                37\n",
       "dices-350           18\n",
       "intimacy            55\n",
       "offensiveness       54\n",
       "politeness          74"
      ]
     },
     "execution_count": 22,
     "metadata": {},
     "output_type": "execute_result"
    }
   ],
   "source": [
    "unique_socdem_users = socdem_counts[socdem_counts['user_id'] == 1].groupby('task')[['user_id']].count()\n",
    "unique_socdem_users"
   ]
  },
  {
   "cell_type": "code",
   "execution_count": 23,
   "metadata": {},
   "outputs": [
    {
     "data": {
      "text/html": [
       "<div>\n",
       "<style scoped>\n",
       "    .dataframe tbody tr th:only-of-type {\n",
       "        vertical-align: middle;\n",
       "    }\n",
       "\n",
       "    .dataframe tbody tr th {\n",
       "        vertical-align: top;\n",
       "    }\n",
       "\n",
       "    .dataframe thead th {\n",
       "        text-align: right;\n",
       "    }\n",
       "</style>\n",
       "<table border=\"1\" class=\"dataframe\">\n",
       "  <thead>\n",
       "    <tr style=\"text-align: right;\">\n",
       "      <th></th>\n",
       "      <th>user_id</th>\n",
       "    </tr>\n",
       "    <tr>\n",
       "      <th>task</th>\n",
       "      <th></th>\n",
       "    </tr>\n",
       "  </thead>\n",
       "  <tbody>\n",
       "    <tr>\n",
       "      <th>diaz</th>\n",
       "      <td>0.024983</td>\n",
       "    </tr>\n",
       "    <tr>\n",
       "      <th>dices-350</th>\n",
       "      <td>0.173077</td>\n",
       "    </tr>\n",
       "    <tr>\n",
       "      <th>intimacy</th>\n",
       "      <td>0.210728</td>\n",
       "    </tr>\n",
       "    <tr>\n",
       "      <th>offensiveness</th>\n",
       "      <td>0.206107</td>\n",
       "    </tr>\n",
       "    <tr>\n",
       "      <th>politeness</th>\n",
       "      <td>0.146245</td>\n",
       "    </tr>\n",
       "  </tbody>\n",
       "</table>\n",
       "</div>"
      ],
      "text/plain": [
       "                user_id\n",
       "task                   \n",
       "diaz           0.024983\n",
       "dices-350      0.173077\n",
       "intimacy       0.210728\n",
       "offensiveness  0.206107\n",
       "politeness     0.146245"
      ]
     },
     "execution_count": 23,
     "metadata": {},
     "output_type": "execute_result"
    }
   ],
   "source": [
    "all_users = socdem_counts.groupby('task')[['user_id']].sum()\n",
    "unique_socdem_users / all_users"
   ]
  },
  {
   "cell_type": "markdown",
   "metadata": {},
   "source": [
    "### Un/seen profiles in *user* test splits\n",
    "Instance-based split does not have unseen users/raters"
   ]
  },
  {
   "cell_type": "code",
   "execution_count": 24,
   "metadata": {},
   "outputs": [],
   "source": [
    "train_profiles = df_text[df_text['user_split'] == 'train'].groupby('task')[['socdem']].agg(lambda x: set(x))"
   ]
  },
  {
   "cell_type": "code",
   "execution_count": 25,
   "metadata": {},
   "outputs": [
    {
     "data": {
      "text/html": [
       "<div>\n",
       "<style scoped>\n",
       "    .dataframe tbody tr th:only-of-type {\n",
       "        vertical-align: middle;\n",
       "    }\n",
       "\n",
       "    .dataframe tbody tr th {\n",
       "        vertical-align: top;\n",
       "    }\n",
       "\n",
       "    .dataframe thead th {\n",
       "        text-align: right;\n",
       "    }\n",
       "</style>\n",
       "<table border=\"1\" class=\"dataframe\">\n",
       "  <thead>\n",
       "    <tr style=\"text-align: right;\">\n",
       "      <th></th>\n",
       "      <th>socdem</th>\n",
       "    </tr>\n",
       "    <tr>\n",
       "      <th>task</th>\n",
       "      <th></th>\n",
       "    </tr>\n",
       "  </thead>\n",
       "  <tbody>\n",
       "    <tr>\n",
       "      <th>diaz</th>\n",
       "      <td>{Man|60-69|Asian|High school or below, Woman|8...</td>\n",
       "    </tr>\n",
       "    <tr>\n",
       "      <th>dices-350</th>\n",
       "      <td>{Man|gen z|White|Unknown, Man|gen z|Black|High...</td>\n",
       "    </tr>\n",
       "    <tr>\n",
       "      <th>intimacy</th>\n",
       "      <td>{Woman|25-29|Unknown|College degree, Man|25-29...</td>\n",
       "    </tr>\n",
       "    <tr>\n",
       "      <th>offensiveness</th>\n",
       "      <td>{Man|50-59|White|College degree, Woman|50-59|W...</td>\n",
       "    </tr>\n",
       "    <tr>\n",
       "      <th>politeness</th>\n",
       "      <td>{Man|25-29|Black|High school or below, Woman|5...</td>\n",
       "    </tr>\n",
       "  </tbody>\n",
       "</table>\n",
       "</div>"
      ],
      "text/plain": [
       "                                                          socdem\n",
       "task                                                            \n",
       "diaz           {Man|60-69|Asian|High school or below, Woman|8...\n",
       "dices-350      {Man|gen z|White|Unknown, Man|gen z|Black|High...\n",
       "intimacy       {Woman|25-29|Unknown|College degree, Man|25-29...\n",
       "offensiveness  {Man|50-59|White|College degree, Woman|50-59|W...\n",
       "politeness     {Man|25-29|Black|High school or below, Woman|5..."
      ]
     },
     "execution_count": 25,
     "metadata": {},
     "output_type": "execute_result"
    }
   ],
   "source": [
    "train_profiles"
   ]
  },
  {
   "cell_type": "code",
   "execution_count": 26,
   "metadata": {},
   "outputs": [],
   "source": [
    "df_text['socdem_in_user_train'] = df_text[df_text['user_split'] == 'test'] \\\n",
    ".apply(lambda row: row['socdem'] in train_profiles['socdem'].loc[row['task']], axis = 1)"
   ]
  },
  {
   "cell_type": "code",
   "execution_count": 27,
   "metadata": {},
   "outputs": [],
   "source": [
    "all_ratings_profiles = df_text[df_text['user_split'] == 'test'].groupby('task')['instance_id'].count()"
   ]
  },
  {
   "cell_type": "code",
   "execution_count": 28,
   "metadata": {},
   "outputs": [
    {
     "data": {
      "text/plain": [
       "task\n",
       "diaz             11954\n",
       "dices-350         5950\n",
       "intimacy          1913\n",
       "offensiveness     1796\n",
       "politeness        3762\n",
       "Name: socdem_in_user_train, dtype: object"
      ]
     },
     "execution_count": 28,
     "metadata": {},
     "output_type": "execute_result"
    }
   ],
   "source": [
    "seen_ratings_profiles = df_text.groupby('task')['socdem_in_user_train'].sum()\n",
    "seen_ratings_profiles"
   ]
  },
  {
   "cell_type": "code",
   "execution_count": 29,
   "metadata": {},
   "outputs": [
    {
     "data": {
      "text/plain": [
       "task\n",
       "diaz             0.982898\n",
       "dices-350         0.73913\n",
       "intimacy          0.75315\n",
       "offensiveness    0.681335\n",
       "politeness       0.746132\n",
       "dtype: object"
      ]
     },
     "execution_count": 29,
     "metadata": {},
     "output_type": "execute_result"
    }
   ],
   "source": [
    "seen_ratings_profiles / all_ratings_profiles"
   ]
  }
 ],
 "metadata": {
  "kernelspec": {
   "display_name": ".venv",
   "language": "python",
   "name": "python3"
  },
  "language_info": {
   "codemirror_mode": {
    "name": "ipython",
    "version": 3
   },
   "file_extension": ".py",
   "mimetype": "text/x-python",
   "name": "python",
   "nbconvert_exporter": "python",
   "pygments_lexer": "ipython3",
   "version": "3.9.20"
  }
 },
 "nbformat": 4,
 "nbformat_minor": 2
}
